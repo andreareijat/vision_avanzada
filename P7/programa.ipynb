{
 "cells": [
  {
   "attachments": {},
   "cell_type": "markdown",
   "metadata": {},
   "source": [
    "safsdf"
   ]
  },
  {
   "cell_type": "code",
   "execution_count": 1,
   "metadata": {},
   "outputs": [],
   "source": [
    "import os\n",
    "import glob as glob\n",
    "import cv2\n",
    "import matplotlib.pyplot as plt\n",
    "import requests\n",
    "import zipfile\n",
    "\n",
    "# WandB – instalamos e importamos a libreria W&B\n",
    "!pip install wandb -q\n",
    "import wandb\n",
    "import random\n",
    "import os\n",
    "import subprocess\n",
    "import sys"
   ]
  },
  {
   "cell_type": "code",
   "execution_count": 17,
   "metadata": {},
   "outputs": [],
   "source": [
    "def split_data_set(image_dir, name1, name2):\n",
    "\n",
    "    f_val = open(name1, 'w')\n",
    "    f_train = open(name2, 'w')\n",
    "    \n",
    "    path, dirs, files = next(os.walk(image_dir))\n",
    "    data_size = len(files)\n",
    "\n",
    "    ind = 0\n",
    "    data_test_size = int(0.2 * data_size)\n",
    "    test_array = random.sample(range(data_size), k=data_test_size)\n",
    "    \n",
    "    for f in os.listdir(image_dir):\n",
    "        if(f.split(\".\")[1] == \"jpg\"):\n",
    "            ind += 1\n",
    "            \n",
    "            if ind in test_array:\n",
    "                f_val.write(image_dir+'/'+f+'\\n')\n",
    "            else:\n",
    "                f_train.write(image_dir+'/'+f+'\\n')\n"
   ]
  },
  {
   "attachments": {},
   "cell_type": "markdown",
   "metadata": {},
   "source": [
    "Ejecutar solo una vez:"
   ]
  },
  {
   "cell_type": "code",
   "execution_count": 18,
   "metadata": {},
   "outputs": [],
   "source": [
    "image_dir1 = \"data_and_labels/positives/images\"\n",
    "image_dir2 = \"data_and_labels/negatives/images\"\n",
    "nametest1=\"positives_test.txt\"\n",
    "nametrain1=\"positives_train.txt\"\n",
    "nametrain2=\"negatives_test.txt\"\n",
    "nametest2=\"negatives_train.txt\"\n",
    "\n",
    "split_data_set(image_dir1, nametest1, nametrain1)\n",
    "split_data_set(image_dir2, nametest2, nametrain2)\n"
   ]
  },
  {
   "cell_type": "code",
   "execution_count": 2,
   "metadata": {},
   "outputs": [],
   "source": [
    "import shutil\n",
    "# para os datos de adestramento.\n",
    "def copy_image_and_txt(path_text_file, path_img_orig, path_img_dest, path_label_orig, path_label_dest):\n",
    "    with open(path_text_file, 'r') as f:\n",
    "        file_paths = f.readlines()\n",
    "        \n",
    "        file_paths = [file_path.split('.')[0].split('/')[-1] for file_path in file_paths]\n",
    "        # copiamos as imaxes\n",
    "        for file_path in file_paths:\n",
    "            shutil.copy(\n",
    "                path_img_orig + f\"/{file_path}.jpg\", \n",
    "                path_img_dest + f\"/{file_path}.jpg\"\n",
    "            )\n",
    "        # copiamos etiqueta\n",
    "            shutil.copy(\n",
    "                path_label_orig + f\"/{file_path}.mat\", \n",
    "                path_label_dest + f\"/{file_path}.mat\"\n",
    "            )\n"
   ]
  },
  {
   "cell_type": "code",
   "execution_count": null,
   "metadata": {},
   "outputs": [],
   "source": [
    "#COPY THE TRAINING POSITIVE IMAGES (EJECUTAR SOLO UNA VEZ)\n",
    "\n",
    "path_text_file = \"positives_train.txt\"\n",
    "path_img_orig = \"data_and_labels/positives/images\"\n",
    "path_img_dest = \"experiment_data/positives/train/images\"\n",
    "path_label_orig = \"data_and_labels/positives/annotations\"\n",
    "path_label_dest = \"experiment_data/positives/train/annotations\"\n",
    "\n",
    "copy_image_and_txt(path_text_file, path_img_orig, path_img_dest, path_label_orig, path_label_dest)"
   ]
  },
  {
   "cell_type": "code",
   "execution_count": 3,
   "metadata": {},
   "outputs": [],
   "source": [
    "#COPY THE TEST POSITIVE IMAGES (EJECUTAR SOLO UNA VEZ)\n",
    "\n",
    "path_text_file = \"positives_test.txt\"\n",
    "path_img_orig = \"data_and_labels/positives/images\"\n",
    "path_img_dest = \"experiment_data/positives/test/images\"\n",
    "path_label_orig = \"data_and_labels/positives/annotations\"\n",
    "path_label_dest = \"experiment_data/positives/test/annotations\"\n",
    "\n",
    "copy_image_and_txt(path_text_file, path_img_orig, path_img_dest, path_label_orig, path_label_dest)"
   ]
  },
  {
   "cell_type": "code",
   "execution_count": null,
   "metadata": {},
   "outputs": [],
   "source": [
    "#COPY THE NEGATIVE IMAGES (EJECUTAR SOLO UNA VEZ)\n",
    "\n",
    "path_text_file = \"negatives_train.txt\"\n",
    "path_img_orig = \"data_and_labels/positives/images\"\n",
    "path_img_dest = \"experiment_data/positives/train/images\"\n",
    "path_label_orig = \"data_and_labels/positives/annotations\"\n",
    "path_label_dest = \"experiment_data/positives/train/annotations\"\n",
    "\n",
    "copy_image_and_txt(path_text_file, path_img_orig, path_img_dest, path_label_orig, path_label_dest)\n",
    "\n"
   ]
  },
  {
   "cell_type": "code",
   "execution_count": null,
   "metadata": {},
   "outputs": [],
   "source": [
    "import shutil\n",
    "\n",
    "# para os datos de adestramento.\n",
    "def copy_image_and_txt_train(path_text_file):\n",
    "    with open(path_text_file, 'r') as f:\n",
    "        file_paths = f.readlines()\n",
    "        file_paths = [file_path.split('.')[0].split('/')[-1] for file_path in file_paths]\n",
    "        # copiamos as imaxes\n",
    "        for file_path in file_paths:\n",
    "            shutil.copy(\n",
    "                f\"data_and_labels/positives/images/{file_path}.jpg\", \n",
    "                f\"experiment_data/images/train/images/{file_path}.jpg\"\n",
    "            )\n",
    "        # copiamos etiqueta\n",
    "            shutil.copy(\n",
    "                f\"data_and_labels/positives/annotations/{file_path}.txt\", \n",
    "                f\"experiment_data/positives/train/annotations/{file_path}.txt\"\n",
    "            )\n",
    "\n",
    "copy_image_and_txt_train('positivos_train.txt')\n",
    "\n",
    "# Par os datos de validacion.\n",
    "def copy_image_and_txt_test(path_text_file):\n",
    "    with open(path_text_file, 'r') as f:\n",
    "        file_paths = f.readlines()\n",
    "        file_paths = [file_path.split('.')[0].split('/')[-1] for file_path in file_paths]\n",
    "        # copiamos imaxes\n",
    "        for file_path in file_paths:\n",
    "            shutil.copy(\n",
    "                f\"botellasJPEGImages_and_Labels/JPEGImages/{file_path}.jpeg\", \n",
    "                f\"botellas_data/images/val/{file_path}.jpeg\"\n",
    "            )\n",
    "        # copiamos etiqueta\n",
    "            shutil.copy(\n",
    "                f\"botellasJPEGImages_and_Labels/labels/{file_path}.txt\", \n",
    "                f\"botellas_data/labels/val/{file_path}.txt\"\n",
    "            )\n",
    "\n",
    "copy_image_and_txt_test('botellas_test.txt')"
   ]
  }
 ],
 "metadata": {
  "kernelspec": {
   "display_name": "VAA",
   "language": "python",
   "name": "python3"
  },
  "language_info": {
   "codemirror_mode": {
    "name": "ipython",
    "version": 3
   },
   "file_extension": ".py",
   "mimetype": "text/x-python",
   "name": "python",
   "nbconvert_exporter": "python",
   "pygments_lexer": "ipython3",
   "version": "3.10.6"
  },
  "orig_nbformat": 4
 },
 "nbformat": 4,
 "nbformat_minor": 2
}
